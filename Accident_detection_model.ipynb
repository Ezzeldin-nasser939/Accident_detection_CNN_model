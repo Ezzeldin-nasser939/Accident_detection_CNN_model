{
  "cells": [
    {
      "cell_type": "markdown",
      "metadata": {
        "id": "view-in-github",
        "colab_type": "text"
      },
      "source": [
        "<a href=\"https://colab.research.google.com/github/Ezzeldin-nasser939/Accident_detection_CNN_model/blob/main/Accident_detection_model.ipynb\" target=\"_parent\"><img src=\"https://colab.research.google.com/assets/colab-badge.svg\" alt=\"Open In Colab\"/></a>"
      ]
    },
    {
      "cell_type": "code",
      "execution_count": null,
      "metadata": {
        "id": "NhDp2UnLvju7"
      },
      "outputs": [],
      "source": [
        "import numpy as np\n",
        "import matplotlib.pyplot as plt\n",
        "\n",
        "import tensorflow as tf\n",
        "from tensorflow import keras\n",
        "from tensorflow.keras import layers\n",
        "\n",
        "import io\n",
        "import imageio\n",
        "from IPython.display import Image, display\n",
        "from ipywidgets import widgets, Layout, HBox\n",
        "\n",
        "from tensorflow.keras.models import Sequential\n",
        "from tensorflow.keras.layers import ConvLSTM2D, BatchNormalization, Dense, Dropout,Flatten ,Bidirectional ,GlobalAveragePooling2D"
      ]
    },
    {
      "cell_type": "code",
      "execution_count": null,
      "metadata": {
        "colab": {
          "base_uri": "https://localhost:8080/"
        },
        "id": "yKN7BQQG9Ss8",
        "outputId": "c43fb8ad-4639-4463-8cf3-8ac72378bbdb"
      },
      "outputs": [
        {
          "output_type": "stream",
          "name": "stdout",
          "text": [
            "Drive already mounted at /content/drive; to attempt to forcibly remount, call drive.mount(\"/content/drive\", force_remount=True).\n"
          ]
        }
      ],
      "source": [
        "from google.colab import drive\n",
        "drive.mount('/content/drive')"
      ]
    },
    {
      "cell_type": "code",
      "execution_count": null,
      "metadata": {
        "id": "MFbxKKzCigjE",
        "colab": {
          "base_uri": "https://localhost:8080/"
        },
        "outputId": "918e7652-cb74-42f2-d48b-4bcf36a3b4fb"
      },
      "outputs": [
        {
          "output_type": "execute_result",
          "data": {
            "text/plain": [
              "array([ 7, 17, 12])"
            ]
          },
          "metadata": {},
          "execution_count": 3
        }
      ],
      "source": [
        "indices = np.random.permutation(50)[0:3]\n",
        "indices"
      ]
    },
    {
      "cell_type": "code",
      "execution_count": null,
      "metadata": {
        "id": "h4zWWPEdbbVi"
      },
      "outputs": [],
      "source": [
        "Accident_x = np.load('/content/drive/MyDrive/Zezo_new/Acident_Data.npy')\n",
        "Accident_y = np.ones((50,1))\n",
        "\n",
        "NonAccident_x = np.load('/content/drive/MyDrive/Zezo_new/Non-Acident_Data.npy')\n",
        "NonAccident_y = np.zeros((50,1))"
      ]
    },
    {
      "cell_type": "code",
      "execution_count": null,
      "metadata": {
        "colab": {
          "base_uri": "https://localhost:8080/"
        },
        "id": "eI9jUXI6bbVj",
        "outputId": "e5781f3b-a129-46fe-914d-596b05c7625f"
      },
      "outputs": [
        {
          "output_type": "stream",
          "name": "stdout",
          "text": [
            "The shape of the accident feature maps : (50, 100, 8, 8, 2048)\n",
            "The shape of the accident labels : (50, 1)\n",
            "The shape of the non-accident feature maps : (50, 100, 8, 8, 2048)\n",
            "The shape of the non-accident labels : (50, 1)\n"
          ]
        }
      ],
      "source": [
        "print(\"The shape of the accident feature maps :\",Accident_x.shape)\n",
        "print(\"The shape of the accident labels :\",Accident_y.shape)\n",
        "print(\"The shape of the non-accident feature maps :\",NonAccident_x.shape)\n",
        "print(\"The shape of the non-accident labels :\",NonAccident_y.shape)"
      ]
    },
    {
      "cell_type": "code",
      "execution_count": null,
      "metadata": {
        "colab": {
          "base_uri": "https://localhost:8080/"
        },
        "id": "t3laIK_UGPH6",
        "outputId": "4acca053-b847-4163-f92d-b39823ebec9c"
      },
      "outputs": [
        {
          "output_type": "stream",
          "name": "stdout",
          "text": [
            "The shape of the all feature maps : (10, 100, 8, 8, 2048)\n",
            "The shape of the all labels : (10, 1)\n",
            "The shape of validation feature maps : (6, 100, 8, 8, 2048)\n",
            "The shape of validation labels : (6, 1)\n"
          ]
        }
      ],
      "source": [
        "Data_x = np.vstack((Accident_x[45:50], NonAccident_x[45:50]))\n",
        "Data_y = np.vstack((Accident_y[45:50], NonAccident_y[45:50]))\n",
        "x_val = np.vstack((Accident_x[indices], NonAccident_x[indices]))\n",
        "y_val = np.vstack((Accident_y[indices], NonAccident_y[indices]))\n",
        "print(\"The shape of the all feature maps :\",Data_x.shape)\n",
        "print(\"The shape of the all labels :\",Data_y.shape)\n",
        "print(\"The shape of validation feature maps :\",x_val.shape)\n",
        "print(\"The shape of validation labels :\",y_val.shape)"
      ]
    },
    {
      "cell_type": "code",
      "execution_count": null,
      "metadata": {
        "id": "90a1N-HLbbVm"
      },
      "outputs": [],
      "source": [
        "# Data_x = np.vstack((Accident_x, NonAccident_x))\n",
        "# Data_y = np.vstack((Accident_y, NonAccident_y))\n",
        "\n",
        "# print(\"The shape of the all feature maps :\",Data_x.shape)\n",
        "# print(\"The shape of the all labels :\",Data_y.shape)"
      ]
    },
    {
      "cell_type": "code",
      "execution_count": null,
      "metadata": {
        "id": "ACRzbMWxEyuH"
      },
      "outputs": [],
      "source": [
        "import random\n",
        "import numpy as np\n",
        "\n",
        "temp = list(zip(Data_x, Data_y))\n",
        "random.shuffle(temp)\n",
        "Data_x, Data_y = zip(*temp)\n",
        "Data_x, Data_y = np.array(Data_x),  np.array(Data_y)\n",
        "temp = list(zip(x_val, y_val))\n",
        "random.shuffle(temp)\n",
        "x_val, y_val = zip(*temp)\n",
        "x_val, y_val = np.array(x_val),  np.array(y_val)"
      ]
    },
    {
      "cell_type": "code",
      "execution_count": null,
      "metadata": {
        "colab": {
          "base_uri": "https://localhost:8080/"
        },
        "id": "AA7S2Og2Iay7",
        "outputId": "cc20e2de-fb8a-494a-f739-cd1ba5a2869c"
      },
      "outputs": [
        {
          "output_type": "stream",
          "name": "stdout",
          "text": [
            "The shape of the all feature maps : (10, 100, 8, 8, 2048)\n",
            "The shape of the all labels : (10, 1)\n",
            "The shape of validation feature maps : (6, 100, 8, 8, 2048)\n",
            "The shape of validation labels : (6, 1)\n"
          ]
        }
      ],
      "source": [
        "print(\"The shape of the all feature maps :\",Data_x.shape)\n",
        "print(\"The shape of the all labels :\",Data_y.shape)\n",
        "print(\"The shape of validation feature maps :\",x_val.shape)\n",
        "print(\"The shape of validation labels :\",y_val.shape)"
      ]
    },
    {
      "cell_type": "code",
      "execution_count": null,
      "metadata": {
        "id": "j17EAFembbVn"
      },
      "outputs": [],
      "source": [
        "# indices = np.random.permutation(Data_x.shape[0])\n",
        "\n",
        "# shuffled_Data_x = Data_x[indices]\n",
        "# shuffled_Data_y = Data_x[indices]\n",
        "\n",
        "# print(\"The shape of the all feature maps :\",shuffled_Data_x.shape)\n",
        "# print(\"The shape of the all labels :\",shuffled_Data_y.shape)"
      ]
    },
    {
      "cell_type": "code",
      "execution_count": null,
      "metadata": {
        "id": "BV_70lU3bbVo"
      },
      "outputs": [],
      "source": [
        "# x_train, x_val = np.split(shuffled_Data_x, [90], axis=0)\n",
        "# y_train, y_val = np.split(shuffled_Data_y, [90], axis=0)\n",
        "\n",
        "# x_train = x_train.astype(np.float16)\n",
        "# x_val = x_val.astype(np.float16)\n",
        "# y_train = y_train.astype(np.float16)\n",
        "# y_val = y_val.astype(np.float16)\n",
        "\n",
        "# print(\"The shape of training data :\",x_train.shape)\n",
        "# print(\"The shape of validation data :\",x_val.shape)\n",
        "# print(\"The shape of training labels :\",y_train.shape)\n",
        "# print(\"The shape of validation labels :\",y_val.shape)"
      ]
    },
    {
      "cell_type": "code",
      "execution_count": null,
      "metadata": {
        "id": "HSft3XgrbbVq"
      },
      "outputs": [],
      "source": [
        "# np.save('DATA/X_train.npy', x_train)\n",
        "# np.save('DATA/X_val.npy', x_val)\n",
        "# np.save('DATA/y_train.npy', y_train)\n",
        "# np.save('DATA/y_val_train.npy', y_val)"
      ]
    },
    {
      "cell_type": "code",
      "execution_count": null,
      "metadata": {
        "id": "UnrHowEqbbVr"
      },
      "outputs": [],
      "source": [
        "# x_train = np.load(\"DATA/X_train.npy\")\n",
        "# x_val = np.load(\"DATA/X_val.npy.npy\")\n",
        "# y_train = np.load(\"DATA/y_train.npy.npy\")\n",
        "# y_val = np.load(\"DATA/X_val.npy.npy\")"
      ]
    },
    {
      "cell_type": "code",
      "execution_count": null,
      "metadata": {
        "colab": {
          "base_uri": "https://localhost:8080/"
        },
        "id": "8cwGDLp5Iy6N",
        "outputId": "6ebcbe3e-37ec-48d0-f3c6-792821aa4c89"
      },
      "outputs": [
        {
          "output_type": "stream",
          "name": "stdout",
          "text": [
            "Model: \"sequential\"\n",
            "_________________________________________________________________\n",
            " Layer (type)                Output Shape              Param #   \n",
            "=================================================================\n",
            " ConvLSTM2D_1 (ConvLSTM2D)   (None, 8, 8, 64)          4866304   \n",
            "                                                                 \n",
            " batch_normalization (BatchN  (None, 8, 8, 64)         256       \n",
            " ormalization)                                                   \n",
            "                                                                 \n",
            " flatten (Flatten)           (None, 4096)              0         \n",
            "                                                                 \n",
            " dense (Dense)               (None, 2048)              8390656   \n",
            "                                                                 \n",
            " dense_1 (Dense)             (None, 32)                65568     \n",
            "                                                                 \n",
            " dense_2 (Dense)             (None, 16)                528       \n",
            "                                                                 \n",
            " dense_3 (Dense)             (None, 8)                 136       \n",
            "                                                                 \n",
            " dense_4 (Dense)             (None, 1)                 9         \n",
            "                                                                 \n",
            "=================================================================\n",
            "Total params: 13,323,457\n",
            "Trainable params: 13,323,329\n",
            "Non-trainable params: 128\n",
            "_________________________________________________________________\n"
          ]
        }
      ],
      "source": [
        "input_shape = (None, 8, 8,2048)\n",
        "\n",
        "model = Sequential()\n",
        "\n",
        "model.add(ConvLSTM2D(64, 3,  dropout=0.2, recurrent_dropout=0.2,padding='same', return_sequences=False, input_shape=input_shape, name='ConvLSTM2D_1'))\n",
        "# Block-2\n",
        "# model.add(ConvLSTM2D(16, 3, dropout=0.2, recurrent_dropout=0.2,padding='same', return_sequences=True, name='ConvLSTM2D_2'))\n",
        "# Block-3\n",
        "# model.add(ConvLSTM2D(32, 3, dropout=0.2, recurrent_dropout=0.2 , return_sequences=False, name='ConvLSTM2D_3'))\n",
        "\n",
        "model.add(BatchNormalization())\n",
        "\n",
        "model.add(Flatten())\n",
        "# model.add(GlobalAveragePooling2D())\n",
        "\n",
        "model.add(Dense(2048, activation='relu'))\n",
        "model.add(Dense(32, activation='relu'))\n",
        "model.add(Dense(16, activation='relu'))\n",
        "model.add(Dense(8, activation='relu'))\n",
        "model.add(Dense(1,activation = 'sigmoid'))\n",
        "\n",
        "\n",
        "model.compile(optimizer= tf.keras.optimizers.Adam(learning_rate=0.00001),loss = tf.keras.losses.BinaryCrossentropy(from_logits=True),metrics=['accuracy'])\n",
        "\n",
        "model.summary()"
      ]
    },
    {
      "cell_type": "code",
      "execution_count": null,
      "metadata": {
        "id": "Ga14ZU2u2SBB"
      },
      "outputs": [],
      "source": [
        "# callback = tf.keras.callbacks.EarlyStopping(monitor='loss', patience=3)\n",
        "\n",
        "# input_shape = (None, 8, 8,2048)\n",
        "\n",
        "# model = Sequential()\n",
        "\n",
        "# \"\"\"model.add(ConvLSTM2D(filters=64, kernel_size=(3, 3), padding='same', return_sequences=True, input_shape=input_shape))\n",
        "\n",
        "# model.add(BatchNormalization())\"\"\"\n",
        "\n",
        "# model.add(ConvLSTM2D(filters=64, kernel_size=(3, 3), padding='same', return_sequences=False, input_shape=input_shape))\n",
        "\n",
        "# model.add(BatchNormalization())\n",
        "\n",
        "# model.add(Flatten())\n",
        "\n",
        "# \"\"\"model.add(Dense(400))\n",
        "# model.add(Dropout(0.3))\"\"\"\n",
        "\n",
        "# \"\"\"model.add(Dense(100))\n",
        "# model.add(Dropout(0.3))\"\"\"\n",
        "\n",
        "# model.add(Dense(1))\n",
        "# model.compile(optimizer= tf.keras.optimizers.Adam(learning_rate=0.0001),\n",
        "#               loss = tf.keras.losses.BinaryCrossentropy(from_logits=True),\n",
        "#               metrics=['accuracy'])\n",
        "# model.summary()"
      ]
    },
    {
      "cell_type": "code",
      "execution_count": null,
      "metadata": {
        "id": "eFemWdsYYa6c"
      },
      "outputs": [],
      "source": [
        "model.load_weights('/content/drive/MyDrive/Conv2.h5')"
      ]
    },
    {
      "cell_type": "code",
      "execution_count": null,
      "metadata": {
        "colab": {
          "base_uri": "https://localhost:8080/"
        },
        "id": "cM9CaiUtZ8Lr",
        "outputId": "b82a0186-2683-4e90-8ba2-a25275d310f5"
      },
      "outputs": [
        {
          "output_type": "stream",
          "name": "stdout",
          "text": [
            "Epoch 1/10\n"
          ]
        },
        {
          "output_type": "stream",
          "name": "stderr",
          "text": [
            "/usr/local/lib/python3.10/dist-packages/keras/backend.py:5703: UserWarning: \"`binary_crossentropy` received `from_logits=True`, but the `output` argument was produced by a Sigmoid activation and thus does not represent logits. Was this intended?\n",
            "  output, from_logits = _get_logits(\n"
          ]
        },
        {
          "output_type": "stream",
          "name": "stdout",
          "text": [
            "1/1 [==============================] - 26s 26s/step - loss: 0.6007 - accuracy: 0.7000 - val_loss: 0.6528 - val_accuracy: 0.6667\n",
            "Epoch 2/10\n",
            "1/1 [==============================] - 3s 3s/step - loss: 0.6142 - accuracy: 0.8000 - val_loss: 0.6627 - val_accuracy: 0.6667\n",
            "Epoch 3/10\n",
            "1/1 [==============================] - 3s 3s/step - loss: 0.6506 - accuracy: 0.7000 - val_loss: 0.6713 - val_accuracy: 0.6667\n",
            "Epoch 4/10\n",
            "1/1 [==============================] - 2s 2s/step - loss: 0.5811 - accuracy: 0.8000 - val_loss: 0.6717 - val_accuracy: 0.6667\n",
            "Epoch 5/10\n",
            "1/1 [==============================] - 2s 2s/step - loss: 0.5506 - accuracy: 0.9000 - val_loss: 0.6628 - val_accuracy: 0.6667\n",
            "Epoch 6/10\n",
            "1/1 [==============================] - 2s 2s/step - loss: 0.5421 - accuracy: 0.8000 - val_loss: 0.6588 - val_accuracy: 0.6667\n",
            "Epoch 7/10\n",
            "1/1 [==============================] - 2s 2s/step - loss: 0.5018 - accuracy: 1.0000 - val_loss: 0.6558 - val_accuracy: 0.6667\n",
            "Epoch 8/10\n",
            "1/1 [==============================] - 2s 2s/step - loss: 0.5039 - accuracy: 0.9000 - val_loss: 0.6527 - val_accuracy: 0.6667\n",
            "Epoch 9/10\n",
            "1/1 [==============================] - 2s 2s/step - loss: 0.5185 - accuracy: 0.9000 - val_loss: 0.6491 - val_accuracy: 0.6667\n",
            "Epoch 10/10\n",
            "1/1 [==============================] - 2s 2s/step - loss: 0.6259 - accuracy: 0.7000 - val_loss: 0.6542 - val_accuracy: 0.6667\n"
          ]
        }
      ],
      "source": [
        "callback = tf.keras.callbacks.EarlyStopping(monitor='loss', patience=2)\n",
        "history = model.fit(Data_x, Data_y, validation_data= (x_val,y_val), epochs=10)"
      ]
    },
    {
      "cell_type": "code",
      "execution_count": null,
      "metadata": {
        "id": "5kJOfOnZG2EQ"
      },
      "outputs": [],
      "source": [
        "model.save(\"/content/drive/MyDrive/Conv2.h5\")"
      ]
    },
    {
      "cell_type": "code",
      "source": [
        "print(history.history.keys())\n",
        "#  \"Accuracy\"\n",
        "plt.plot(history.history['accuracy'])\n",
        "plt.plot(history.history['val_accuracy'])\n",
        "plt.title('model accuracy')\n",
        "plt.ylabel('accuracy')\n",
        "plt.xlabel('epoch')\n",
        "plt.legend(['train', 'validation'], loc='upper left')\n",
        "plt.show()\n",
        "# \"Loss\"\n",
        "plt.plot(history.history['loss'])\n",
        "plt.plot(history.history['val_loss'])\n",
        "plt.title('model loss')\n",
        "plt.ylabel('loss')\n",
        "plt.xlabel('epoch')\n",
        "plt.legend(['train', 'validation'], loc='upper left')\n",
        "plt.show()"
      ],
      "metadata": {
        "colab": {
          "base_uri": "https://localhost:8080/",
          "height": 945
        },
        "id": "6pjSmlcPPUtG",
        "outputId": "fbf280ed-a19a-4793-805b-dfb24324e77c"
      },
      "execution_count": null,
      "outputs": [
        {
          "output_type": "stream",
          "name": "stdout",
          "text": [
            "dict_keys(['loss', 'accuracy', 'val_loss', 'val_accuracy'])\n"
          ]
        },
        {
          "output_type": "display_data",
          "data": {
            "text/plain": [
              "<Figure size 640x480 with 1 Axes>"
            ],
            "image/png": "[encoded data removed]"
          },
          "metadata": {}
        },
        {
          "output_type": "display_data",
          "data": {
            "text/plain": [
              "<Figure size 640x480 with 1 Axes>"
            ],
            "image/png": "[encoded data removed]"
          },
          "metadata": {}
        }
      ]
    },
    {
      "cell_type": "code",
      "execution_count": null,
      "metadata": {
        "colab": {
          "base_uri": "https://localhost:8080/"
        },
        "id": "BEWSRCWJXtUW",
        "outputId": "08c95eed-425e-4f0b-caa7-c3d99bc3f218"
      },
      "outputs": [
        {
          "name": "stdout",
          "output_type": "stream",
          "text": [
            "Epoch 1/5\n"
          ]
        },
        {
          "name": "stderr",
          "output_type": "stream",
          "text": [
            "/usr/local/lib/python3.10/dist-packages/keras/backend.py:5703: UserWarning: \"`binary_crossentropy` received `from_logits=True`, but the `output` argument was produced by a Sigmoid activation and thus does not represent logits. Was this intended?\n",
            "  output, from_logits = _get_logits(\n"
          ]
        },
        {
          "name": "stdout",
          "output_type": "stream",
          "text": [
            "1/1 [==============================] - 39s 39s/step - loss: 0.6710 - accuracy: 0.5000 - val_loss: 0.6824 - val_accuracy: 0.5000\n",
            "Epoch 2/5\n",
            "1/1 [==============================] - 4s 4s/step - loss: 0.6515 - accuracy: 0.6250 - val_loss: 0.6757 - val_accuracy: 1.0000\n",
            "Epoch 3/5\n",
            "1/1 [==============================] - 6s 6s/step - loss: 0.5800 - accuracy: 0.7500 - val_loss: 0.6740 - val_accuracy: 1.0000\n",
            "Epoch 4/5\n",
            "1/1 [==============================] - 4s 4s/step - loss: 0.7005 - accuracy: 0.5000 - val_loss: 0.6753 - val_accuracy: 0.5000\n",
            "Epoch 5/5\n",
            "1/1 [==============================] - 4s 4s/step - loss: 0.5276 - accuracy: 1.0000 - val_loss: 0.6738 - val_accuracy: 0.5000\n"
          ]
        }
      ],
      "source": [
        "# history = model.fit(Data_x, Data_y, validation_split=.2, epochs=5)"
      ]
    },
    {
      "cell_type": "code",
      "execution_count": null,
      "metadata": {
        "colab": {
          "base_uri": "https://localhost:8080/"
        },
        "id": "P-hpZUFRcT7J",
        "outputId": "f93388de-e0c4-4a78-8895-b713a3cf72a6"
      },
      "outputs": [
        {
          "output_type": "execute_result",
          "data": {
            "text/plain": [
              "10"
            ]
          },
          "metadata": {},
          "execution_count": 14
        }
      ],
      "source": [
        "len(history.history['loss'])"
      ]
    },
    {
      "cell_type": "code",
      "execution_count": null,
      "metadata": {
        "colab": {
          "base_uri": "https://localhost:8080/"
        },
        "id": "HpEwCFu_x4rX",
        "outputId": "5bbe4746-d24e-4985-f644-28f45bcaf8f3"
      },
      "outputs": [
        {
          "name": "stdout",
          "output_type": "stream",
          "text": [
            "Drive already mounted at /content/drive; to attempt to forcibly remount, call drive.mount(\"/content/drive\", force_remount=True).\n"
          ]
        }
      ],
      "source": [
        "from google.colab import drive\n",
        "drive.mount('/content/drive')"
      ]
    }
  ],
  "metadata": {
    "accelerator": "GPU",
    "colab": {
      "provenance": [],
      "include_colab_link": true
    },
    "kernelspec": {
      "display_name": "Python 3",
      "name": "python3"
    },
    "language_info": {
      "codemirror_mode": {
        "name": "ipython",
        "version": 3
      },
      "file_extension": ".py",
      "mimetype": "text/x-python",
      "name": "python",
      "nbconvert_exporter": "python",
      "pygments_lexer": "ipython3",
      "version": "3.10.9"
    }
  },
  "nbformat": 4,
  "nbformat_minor": 0
}